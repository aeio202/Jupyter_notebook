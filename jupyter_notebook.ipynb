{
 "cells": [
  {
   "cell_type": "markdown",
   "id": "e9cdc659-6365-42f2-ad02-9a39e625f8af",
   "metadata": {},
   "source": [
    "# Data Science Tools and Ecosystem"
   ]
  },
  {
   "cell_type": "markdown",
   "id": "d73a1c13-9a90-49a6-a125-224244c58317",
   "metadata": {},
   "source": [
    "In this notebook, Data Science Tools and Ecosystem are summarized."
   ]
  },
  {
   "cell_type": "markdown",
   "id": "4db1d170-3ab0-44f4-961a-f9764386b424",
   "metadata": {},
   "source": [
    "**Objectives:**\n",
    "\n",
    "- List popular languages for Data Science  \n",
    "- Identify commonly used libraries in Data Science  \n",
    "- Create and format tables in Markdown  \n",
    "- Perform basic arithmetic operations in Python  \n",
    "- Display output using print statements  \n"
   ]
  },
  {
   "cell_type": "markdown",
   "id": "2feb7f0b-032d-40e4-ab97-aeb2aea9f4f3",
   "metadata": {},
   "source": [
    "Some of the popular languages that Data Scientists use are:  \n",
    "1. Python  \n",
    "2. R  \n",
    "3. SQL  "
   ]
  },
  {
   "cell_type": "markdown",
   "id": "c8b9ed62-6d1e-4052-bf47-1710703878f9",
   "metadata": {},
   "source": [
    "Some of the commonly used libraries used by Data Scientists include:  \n",
    "1. NumPy  \n",
    "2. Pandas  \n",
    "3. Matplotlib  "
   ]
  },
  {
   "cell_type": "markdown",
   "id": "640809b6-9d65-427a-8613-455bee9c7657",
   "metadata": {},
   "source": [
    "| Data Science Tools |\n",
    "|---------------------|\n",
    "| Jupyter Notebook    |\n",
    "| RStudio             |\n",
    "| VS Code             |"
   ]
  },
  {
   "cell_type": "markdown",
   "id": "36d857bc-dc52-464a-bad9-a57cf1bc1882",
   "metadata": {},
   "source": [
    "### Below are a few examples of evaluating arithmetic expressions in Python"
   ]
  },
  {
   "cell_type": "code",
   "execution_count": 3,
   "id": "3351864e-3d5a-45e4-ace1-4c6dc4a71588",
   "metadata": {},
   "outputs": [
    {
     "data": {
      "text/plain": [
       "17"
      ]
     },
     "execution_count": 3,
     "metadata": {},
     "output_type": "execute_result"
    }
   ],
   "source": [
    "#This a simple arithmetic expression to mutiply then add integers  \n",
    "(3*4)+5"
   ]
  },
  {
   "cell_type": "code",
   "execution_count": 4,
   "id": "4e0a2775-197c-402e-a5b9-2c3e20086c64",
   "metadata": {},
   "outputs": [
    {
     "name": "stdout",
     "output_type": "stream",
     "text": [
      "3 hours and 20 minutes\n"
     ]
    }
   ],
   "source": [
    "#This will convert 200 minutes to hours by diving by 60  \n",
    "x=200  \n",
    "y=x//60  \n",
    "z=x%60  \n",
    "print(f\"{y} hours and {z} minutes\")"
   ]
  },
  {
   "cell_type": "markdown",
   "id": "61d8db8a-8214-41b2-b154-0bbb848e5e61",
   "metadata": {},
   "source": [
    "## Author  \n",
    "Tutea Andrei-Iulian"
   ]
  },
  {
   "cell_type": "code",
   "execution_count": null,
   "id": "74c17956-3dfa-4b54-a617-2e999ba12402",
   "metadata": {},
   "outputs": [],
   "source": []
  }
 ],
 "metadata": {
  "kernelspec": {
   "display_name": "Python [conda env:base] *",
   "language": "python",
   "name": "conda-base-py"
  },
  "language_info": {
   "codemirror_mode": {
    "name": "ipython",
    "version": 3
   },
   "file_extension": ".py",
   "mimetype": "text/x-python",
   "name": "python",
   "nbconvert_exporter": "python",
   "pygments_lexer": "ipython3",
   "version": "3.13.5"
  }
 },
 "nbformat": 4,
 "nbformat_minor": 5
}
